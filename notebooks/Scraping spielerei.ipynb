{
 "cells": [
  {
   "cell_type": "code",
   "execution_count": null,
   "metadata": {},
   "outputs": [],
   "source": [
    "import sys\n",
    "import pandas as pd\n",
    "\n",
    "sys.path.append(\"../\")\n",
    "from scraper.scrapers.lzvcup import LZVCupScraper"
   ]
  },
  {
   "cell_type": "code",
   "execution_count": null,
   "metadata": {},
   "outputs": [],
   "source": [
    "%load_ext autoreload\n",
    "%autoreload 2"
   ]
  },
  {
   "cell_type": "code",
   "execution_count": null,
   "metadata": {},
   "outputs": [],
   "source": [
    "DIR_COMPETITIONS_TEAMS = \"../data/competitions_teams.json\"\n",
    "DIR_STATS = \"../data/stats.csv\"\n",
    "# DIR_STATS_HISTORICAL = \"../data/stats_historical.csv\""
   ]
  },
  {
   "cell_type": "code",
   "execution_count": null,
   "metadata": {},
   "outputs": [],
   "source": [
    "AREAS = {\n",
    "    \"ANTWERPEN\": \"results/1\",\n",
    "    \"BRUSSELS GEWEST\": \"results/2\",\n",
    "    \"LIMBURG\": \"results/3\",\n",
    "    \"OOST-VLAANDEREN\": \"results/4\",\n",
    "    \"VLAAMS BRABANT\": \"results/5\",\n",
    "    \"WEST-VLAANDEREN\": \"results/6\"\n",
    "}"
   ]
  },
  {
   "cell_type": "code",
   "execution_count": null,
   "metadata": {},
   "outputs": [],
   "source": [
    "dict_out, list_stats = {}, []\n",
    "\n",
    "for area_name, area_url in AREAS.items():\n",
    "    config = {\n",
    "        \"base_url\": \"https://www.lzvcup.be\",\n",
    "        \"area_name\": area_name,\n",
    "        \"area_url\": area_url\n",
    "    }\n",
    "\n",
    "    # initialize scraper instance\n",
    "    scraper = LZVCupScraper(config)\n",
    "\n",
    "    # get all regions within area\n",
    "    region_cards = scraper.parse_region_cards()\n",
    "    regions = list(region_cards.keys())\n",
    "\n",
    "    dict_regions = {}\n",
    "    for region in regions:\n",
    "        # get all teams for all competitions within a single region\n",
    "        # note: some competitions appear duplicated across regions (e.g. 4E KLASSE C GENT <> 1E KLASSE DENDERSTREEK, cf. teams Balls & Glory)\n",
    "        competitions = scraper.parse_competitions_from_region_card(region_cards[region])\n",
    "        dict_regions[region] = competitions\n",
    "\n",
    "        # get players and their statistics per team\n",
    "        df_stats = scraper.parse_teams(competitions[\"competitions\"], region)\n",
    "        list_stats.append(df_stats)\n",
    "\n",
    "    dict_out.update({area_name: dict_regions})\n",
    "\n",
    "# gather DataFrames into one\n",
    "df_stats_all = pd.concat(list_stats, axis=0)\n",
    "\n",
    "# store outputs\n",
    "LZVCupScraper.store_json(dict_out, DIR_COMPETITIONS_TEAMS)\n",
    "LZVCupScraper.store_csv(df_stats_all, DIR_STATS)"
   ]
  },
  {
   "cell_type": "code",
   "execution_count": null,
   "metadata": {},
   "outputs": [],
   "source": [
    "# LZVCupScraper.parse_player_stats_history(df_stats[\"Teamleden\"].iloc[0], df_stats[\"_url\"].iloc[0])\n",
    "\n",
    "# df_stats.apply(\n",
    "#     lambda x: LZVCupScraper.parse_player_stats_history(x.Teamleden, x._url),\n",
    "#     axis=1\n",
    "# ).tolist()"
   ]
  }
 ],
 "metadata": {
  "kernelspec": {
   "display_name": ".venv",
   "language": "python",
   "name": "python3"
  },
  "language_info": {
   "codemirror_mode": {
    "name": "ipython",
    "version": 3
   },
   "file_extension": ".py",
   "mimetype": "text/x-python",
   "name": "python",
   "nbconvert_exporter": "python",
   "pygments_lexer": "ipython3",
   "version": "3.10.9"
  },
  "orig_nbformat": 4
 },
 "nbformat": 4,
 "nbformat_minor": 2
}
